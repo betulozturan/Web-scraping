{
 "cells": [
  {
   "cell_type": "markdown",
   "metadata": {},
   "source": [
    "# TED TALKS SCRAPING PROJECT"
   ]
  },
  {
   "cell_type": "markdown",
   "metadata": {},
   "source": [
    "Betuel Oezturan \n",
    "<br>\n",
    "01/943905\n",
    "<br>\n",
    "Universität Konstanz"
   ]
  },
  {
   "cell_type": "markdown",
   "metadata": {},
   "source": [
    "For my final project, I chose www.ted.com to scrape which has hundreds of inspiring videos on several topics. "
   ]
  },
  {
   "cell_type": "code",
   "execution_count": null,
   "metadata": {},
   "outputs": [],
   "source": [
    "from IPython.core.display import display, HTML\n",
    "display(HTML('http://www.ted.com/talks'))"
   ]
  },
  {
   "cell_type": "markdown",
   "metadata": {},
   "source": [
    "First of all, I need to check if ted.com permits web-scraping. I checked terms of condition and robots.txt file. Apart from those mentiond as disallow:/ on robots.txt page, ted can be scraped for non-commercial purposes. "
   ]
  },
  {
   "cell_type": "code",
   "execution_count": 1,
   "metadata": {},
   "outputs": [
    {
     "data": {
      "text/html": [
       "User-agent: *\n",
       "Disallow: /latest\n",
       "Disallow: /latest-talk\n",
       "Disallow: /latest-playlist\n",
       "Disallow: /people\n",
       "Disallow: /profiles\n",
       "Disallow: /conversations\n",
       "Disallow: /themes/rss\n",
       "\n",
       "User-agent: Baiduspider\n",
       "Disallow: /search\n",
       "Disallow: /latest\n",
       "Disallow: /latest-talk\n",
       "Disallow: /latest-playlist\n",
       "Disallow: /people\n",
       "Disallow: /profiles\n"
      ],
      "text/plain": [
       "<IPython.core.display.HTML object>"
      ]
     },
     "metadata": {},
     "output_type": "display_data"
    }
   ],
   "source": [
    "#display robots.txt \n",
    "from IPython.core.display import display, HTML\n",
    "display(HTML('https://www.ted.com/robots.txt'))"
   ]
  },
  {
   "cell_type": "markdown",
   "metadata": {},
   "source": [
    "In this notebook, \n",
    "1. I will firstly parse ted video links. Ted has around 3000 videos which the oldest one is from June 2006. I will store their links in my computer as 'ted_talks.csv' file for not to run same code everytime. The structure of the links are as follows: 'https://www.ted.com/name_of_the_talk' . We will use this structure to parse video links because they are not stored as full url links on html version of the website. \n",
    "<br>\n",
    "<br>\n",
    "2. I will show step by step how I scrape one video as an example. Afterwards, I will create a function code to scrape all videos.   \n",
    "<br>\n",
    "3. And then, I will visit every individual video page, collect the important data with my already defined 'get_talk_content' function and store them as 'ted_talks_data.csv' on my computer to access later. \n",
    "<br>\n",
    "<br>\n",
    "4. We will discuss what we can do with the stored data\n",
    "\n",
    "<br>\n",
    "The purpose of the project is to store important data about ted talks in a structure ready to be used for any research related to the TED-talks"
   ]
  },
  {
   "cell_type": "markdown",
   "metadata": {},
   "source": [
    "Let's look at 'Why you should read Don Quixote' talk as an example:\n",
    "<br>In the video page you can see: \n",
    "<br>-title of the video\n",
    "<br>-name of the speaker\n",
    "<br>-number of views\n",
    "<br>-description of the video\n",
    "<br>-duration of the talk\n",
    "<br>-related talks\n",
    "<br>in an additional url you can also access transcripts of the talks"
   ]
  },
  {
   "cell_type": "code",
   "execution_count": 203,
   "metadata": {},
   "outputs": [
    {
     "data": {
      "text/plain": [
       "True"
      ]
     },
     "execution_count": 203,
     "metadata": {},
     "output_type": "execute_result"
    }
   ],
   "source": [
    "#you can open the mentioned talk by running the code  below\n",
    "import webbrowser\n",
    "webbrowser.open('https://www.ted.com/talks/ilan_stavans_why_should_you_read_don_quixote')"
   ]
  },
  {
   "cell_type": "markdown",
   "metadata": {},
   "source": [
    "### 1. Getting Links for All videos"
   ]
  },
  {
   "cell_type": "code",
   "execution_count": 7,
   "metadata": {},
   "outputs": [],
   "source": [
    "import pandas as pd\n",
    "from bs4 import BeautifulSoup\n",
    "import urllib\n",
    "from urllib.request import urlopen\n",
    "import time\n",
    "import requests\n",
    "import re\n",
    "from IPython.display import clear_output\n"
   ]
  },
  {
   "cell_type": "markdown",
   "metadata": {},
   "source": [
    "Firstly, try to write a code that will work for parsing talk links on one page: When you open 'https://www.ted.com/talks' page, it has several links embedded in the code such as 'watch', 'discover','participate' etc. sections. What we want to have is the links that will direct us to the talk links. We will run a code for one page of talks archive, that will parse only talk links and parse them once for us. "
   ]
  },
  {
   "cell_type": "code",
   "execution_count": 8,
   "metadata": {},
   "outputs": [],
   "source": [
    "base = 'https://www.ted.com/talks?page={}'"
   ]
  },
  {
   "cell_type": "code",
   "execution_count": 9,
   "metadata": {},
   "outputs": [],
   "source": [
    "paginator = list(range(0, 40))"
   ]
  },
  {
   "cell_type": "code",
   "execution_count": 10,
   "metadata": {},
   "outputs": [],
   "source": [
    "toget = base.format(str(paginator[6]))\n",
    "html = requests.get(toget)\n",
    "soup = BeautifulSoup(html.text, 'html5lib')"
   ]
  },
  {
   "cell_type": "code",
   "execution_count": 11,
   "metadata": {},
   "outputs": [],
   "source": [
    "all_url=soup.select('.ga-link') \n",
    "#using 'selectorgadget' we find every content that has .ga-link attribute which means links to anything on the page"
   ]
  },
  {
   "cell_type": "code",
   "execution_count": 12,
   "metadata": {},
   "outputs": [],
   "source": [
    "talks_meta=soup.find_all(attrs={\"data-ga-context\":\"talks\"}) #we parsed only links that has 'talks' attribute"
   ]
  },
  {
   "cell_type": "code",
   "execution_count": 13,
   "metadata": {},
   "outputs": [
    {
     "data": {
      "text/plain": [
       "['/talks/darieth_chisolm_let_s_call_revenge_porn_what_it_is_digital_domestic_violence',\n",
       " '/talks/alexis_jones_redefining_manhood_one_locker_room_talk_at_a_time',\n",
       " '/talks/congrui_jin_what_if_cracks_in_concrete_could_fix_themselves']"
      ]
     },
     "execution_count": 13,
     "metadata": {},
     "output_type": "execute_result"
    }
   ],
   "source": [
    "talks=[]\n",
    "for talk in talks_meta:\n",
    "    talks.append(talk['href'])\n",
    "talks=list(set(talks)) # set function eliminates duplicates\n",
    "talks[:3]\n",
    "# we need to append 'www.ted.com on the beginning to open the pages, but we will do it on our main code'"
   ]
  },
  {
   "cell_type": "markdown",
   "metadata": {},
   "source": [
    "Now we know how to parse talk links, we can define a function to do it for every page. "
   ]
  },
  {
   "cell_type": "code",
   "execution_count": 14,
   "metadata": {},
   "outputs": [],
   "source": [
    "def get_talk_links(input_range = range(0, 90)): \n",
    "#range of pages, if you change 90 to 15, the code will parse until 14th page\n",
    "#so you will have less TED videos scraped at the end\n",
    "    \n",
    "    all_links = []\n",
    "    base = base = 'https://www.ted.com/talks?page={}'\n",
    "    for i in input_range: \n",
    "        time.sleep(2) # wait 2 seconds\n",
    "        clear_output(wait=True) # clear output\n",
    "        url = base.format(str(i))\n",
    "        html = requests.get(url)\n",
    "        while html.status_code == 429: # wait and retry in case of error\n",
    "            print('Error. Too many requests. Waiting a bit..')\n",
    "            time.sleep(15)\n",
    "            html = requests.get(url)\n",
    "        soup =  BeautifulSoup(html.text, 'html5lib')\n",
    "        talks_meta = soup.find_all(attrs={\"data-ga-context\":\"talks\"})\n",
    "        \n",
    "        print(\"Current page: {}, Status code: {}, Links: {}\".format(url, str(html.status_code),\n",
    "                                                               str(len(talks))))\n",
    "\n",
    "            \n",
    "        for talk in talks_meta:\n",
    "            all_links.append('https://www.ted.com'+talk['href'])\n",
    "            \n",
    "        all_links=list(set(all_links))\n",
    "        \n",
    "    return(all_links)\n"
   ]
  },
  {
   "cell_type": "code",
   "execution_count": 15,
   "metadata": {},
   "outputs": [
    {
     "name": "stdout",
     "output_type": "stream",
     "text": [
      "Current page: https://www.ted.com/talks?page=89, Status code: 200, Links: 36\n"
     ]
    }
   ],
   "source": [
    "talk_data=get_talk_links()"
   ]
  },
  {
   "cell_type": "code",
   "execution_count": 17,
   "metadata": {},
   "outputs": [
    {
     "name": "stdout",
     "output_type": "stream",
     "text": [
      "/Users/betulraylaz/Documents/data-hands-on\n"
     ]
    }
   ],
   "source": [
    "%cd \"/Users/betulraylaz/Documents/data-hands-on\" \n",
    "#change it to your local repository\n",
    "#save the urls as csv file, so we will not have to scrape them everytime we need\n",
    "\n",
    "with open('ted_talks.csv', 'w',encoding = 'utf-8') as f:\n",
    "     for talk in talk_data:\n",
    "        f.write(talk + '\\n')\n"
   ]
  },
  {
   "cell_type": "code",
   "execution_count": 21,
   "metadata": {},
   "outputs": [
    {
     "name": "stdout",
     "output_type": "stream",
     "text": [
      "/Users/betulraylaz/Documents/data-hands-on\n"
     ]
    }
   ],
   "source": [
    "%cd \"/Users/betulraylaz/Documents/data-hands-on\" \n",
    "#read them into python\n",
    "with open('ted_talks.csv', 'r', encoding = 'utf-8') as f:\n",
    "    talk_link_csv = f.read().split('\\n')[:-1] # split\n",
    "    \n",
    "\n"
   ]
  },
  {
   "cell_type": "code",
   "execution_count": 22,
   "metadata": {},
   "outputs": [
    {
     "data": {
      "text/plain": [
       "'https://www.ted.com/talks/rose_eveleth_how_do_we_smell'"
      ]
     },
     "execution_count": 22,
     "metadata": {},
     "output_type": "execute_result"
    }
   ],
   "source": [
    "talk_link_csv[4]\n",
    "#Yes, we have them saved on our computer"
   ]
  },
  {
   "cell_type": "markdown",
   "metadata": {},
   "source": [
    "### 2. Scraping one video detail"
   ]
  },
  {
   "cell_type": "code",
   "execution_count": 23,
   "metadata": {},
   "outputs": [],
   "source": [
    "test = talk_link_csv[7] # you can choose any video as an example\n",
    "html = requests.get(test)\n",
    "soup = BeautifulSoup(html.text, 'html5lib')"
   ]
  },
  {
   "cell_type": "code",
   "execution_count": 25,
   "metadata": {},
   "outputs": [
    {
     "data": {
      "text/plain": [
       "'Harish Manwani: Profit’s not always the point | TED Talk'"
      ]
     },
     "execution_count": 25,
     "metadata": {},
     "output_type": "execute_result"
    }
   ],
   "source": [
    "#video name as a string\n",
    "title=soup.title.string\n",
    "type(title)\n",
    "title"
   ]
  },
  {
   "cell_type": "code",
   "execution_count": 26,
   "metadata": {},
   "outputs": [
    {
     "data": {
      "text/plain": [
       "'https://www.ted.com/talks/harish_manwani_profit_s_not_always_the_point'"
      ]
     },
     "execution_count": 26,
     "metadata": {},
     "output_type": "execute_result"
    }
   ],
   "source": [
    "#video link\n",
    "url=soup.link[\"href\"]\n",
    "url"
   ]
  },
  {
   "cell_type": "code",
   "execution_count": 27,
   "metadata": {},
   "outputs": [
    {
     "data": {
      "text/plain": [
       "\"You might not expect the chief operating officer of a major global corporation to look too far beyond either the balance sheet or the bottom line. But Harish Manwani, COO of Unilever, makes a passionate argument that doing so to include value, purpose and sustainability in top-level decision-making is not just savvy, it's the only way to run a 21st century business responsibly.\""
      ]
     },
     "execution_count": 27,
     "metadata": {},
     "output_type": "execute_result"
    }
   ],
   "source": [
    "#description\n",
    "desc=soup.find(itemprop=\"description\")\n",
    "desc['content']"
   ]
  },
  {
   "cell_type": "code",
   "execution_count": 28,
   "metadata": {},
   "outputs": [
    {
     "name": "stdout",
     "output_type": "stream",
     "text": [
      "Harish Manwani\n"
     ]
    }
   ],
   "source": [
    "#author\n",
    "author=soup.find(attrs={\"name\":\"author\"})\n",
    "print(author['content'])"
   ]
  },
  {
   "cell_type": "code",
   "execution_count": 29,
   "metadata": {},
   "outputs": [
    {
     "name": "stdout",
     "output_type": "stream",
     "text": [
      "Profit’s not always the point\n"
     ]
    }
   ],
   "source": [
    "print(soup.find(attrs={\"property\":\"og:title\"})['content'])"
   ]
  },
  {
   "cell_type": "code",
   "execution_count": 30,
   "metadata": {},
   "outputs": [
    {
     "name": "stdout",
     "output_type": "stream",
     "text": [
      "TED, talks, business, sustainability\n"
     ]
    }
   ],
   "source": [
    "#keywords as strings\n",
    "keywords=soup.find(attrs={\"name\":\"keywords\"})\n",
    "print(keywords['content'])"
   ]
  },
  {
   "cell_type": "code",
   "execution_count": 31,
   "metadata": {},
   "outputs": [
    {
     "data": {
      "text/plain": [
       "'838.0'"
      ]
     },
     "execution_count": 31,
     "metadata": {},
     "output_type": "execute_result"
    }
   ],
   "source": [
    "#duration\n",
    "duration=soup.find(attrs={\"property\":\"og:video:duration\"})\n",
    "duration['content']"
   ]
  },
  {
   "cell_type": "code",
   "execution_count": 32,
   "metadata": {},
   "outputs": [
    {
     "data": {
      "text/plain": [
       "'PT13M58S'"
      ]
     },
     "execution_count": 32,
     "metadata": {},
     "output_type": "execute_result"
    }
   ],
   "source": [
    "#duration as Minutes and Seconds\n",
    "dur=soup.find(itemprop=\"duration\")\n",
    "dur['content']"
   ]
  },
  {
   "cell_type": "code",
   "execution_count": 33,
   "metadata": {},
   "outputs": [
    {
     "name": "stdout",
     "output_type": "stream",
     "text": [
      "business\n",
      "sustainability\n"
     ]
    }
   ],
   "source": [
    "#tags as seperate items\n",
    "tags=soup.find_all(attrs={\"property\":\"og:video:tag\"})\n",
    "for tag in tags: \n",
    "    print(tag['content'])"
   ]
  },
  {
   "cell_type": "code",
   "execution_count": 34,
   "metadata": {},
   "outputs": [
    {
     "data": {
      "text/plain": [
       "'1636306'"
      ]
     },
     "execution_count": 34,
     "metadata": {},
     "output_type": "execute_result"
    }
   ],
   "source": [
    "#viewed count\n",
    "views=soup.find(itemprop=\"interactionCount\")\n",
    "views['content']"
   ]
  },
  {
   "cell_type": "code",
   "execution_count": 35,
   "metadata": {},
   "outputs": [
    {
     "data": {
      "text/plain": [
       "'2014-01-13T16:01:03+00:00'"
      ]
     },
     "execution_count": 35,
     "metadata": {},
     "output_type": "execute_result"
    }
   ],
   "source": [
    "#upload date\n",
    "Upload_Date=soup.find(itemprop='uploadDate')\n",
    "Upload_Date['content']"
   ]
  },
  {
   "cell_type": "markdown",
   "metadata": {},
   "source": [
    "### 3.Scrape All Videos"
   ]
  },
  {
   "cell_type": "code",
   "execution_count": 49,
   "metadata": {},
   "outputs": [],
   "source": [
    "def get_talk_content(talk_links):\n",
    "    all_talks = []\n",
    "    #errors=[]\n",
    "    for id_,link in enumerate(talk_links):        \n",
    "    \n",
    "            time.sleep(1.5)\n",
    "            html = requests.get(link)\n",
    "            print(\"current id:\" + str(id_) + ', current page:' + link)\n",
    "            clear_output(wait = True)\n",
    "            while html.status_code == 429: # wait and retry in case of error\n",
    "                print('Error. Too many requests. Waiting a bit..')\n",
    "                time.sleep(30)\n",
    "                html = requests.get(link)\n",
    "            soup = BeautifulSoup(html.text, 'html5lib') \n",
    "            \n",
    "            title=soup.find(attrs={\"property\":\"og:title\"})['content']\n",
    "            \n",
    "            url=soup.link[\"href\"]\n",
    "            \n",
    "            desc=soup.find(itemprop=\"description\")['content']\n",
    "            \n",
    "            author=soup.find(attrs={\"name\":\"author\"})['content']\n",
    "            \n",
    "            keywords=soup.find(attrs={\"name\":\"keywords\"})['content']\n",
    "            \n",
    "            tags_=soup.find_all(attrs={\"property\":\"og:video:tag\"})\n",
    "            \n",
    "            \n",
    "            tags=[]\n",
    "            for tag in tags_:\n",
    "                tags.append(tag['content'])\n",
    "                \n",
    "            duration=soup.find(attrs={\"property\":\"og:video:duration\"})['content']\n",
    "            \n",
    "            dur=soup.find(itemprop=\"duration\")['content']\n",
    "       \n",
    "            views=soup.find(itemprop=\"interactionCount\")['content']\n",
    "        \n",
    "            Upload_Date=soup.find(itemprop='uploadDate')['content']\n",
    "            \n",
    "            year=soup.find(itemprop='uploadDate')['content'][0:4]\n",
    "            \n",
    "            talk_data = {'title': title, 'url':url,'desc':desc, 'author':author\n",
    "                         , 'keywords': keywords,'tags':tags, \"duration\":duration, 'duration in minutes':dur,\n",
    "                         'views': views,'date': Upload_Date,'year':year}\n",
    "           \n",
    "            all_talks.append(talk_data)\n",
    "  \n",
    "    return all_talks \n",
    "\n"
   ]
  },
  {
   "cell_type": "code",
   "execution_count": 50,
   "metadata": {},
   "outputs": [
    {
     "name": "stdout",
     "output_type": "stream",
     "text": [
      "current id:3203, current page:https://www.ted.com/talks/aja_monet_and_phillip_agnew_a_love_story_about_the_power_of_art_as_organizing\n"
     ]
    }
   ],
   "source": [
    "talk_cont=get_talk_content(talk_link_csv) #this code lasts approximately 2-3 hours"
   ]
  },
  {
   "cell_type": "code",
   "execution_count": 51,
   "metadata": {},
   "outputs": [
    {
     "name": "stdout",
     "output_type": "stream",
     "text": [
      "<class 'pandas.core.frame.DataFrame'>\n",
      "RangeIndex: 3204 entries, 0 to 3203\n",
      "Data columns (total 11 columns):\n",
      "author                 3204 non-null object\n",
      "date                   3204 non-null object\n",
      "desc                   3204 non-null object\n",
      "duration               3204 non-null object\n",
      "duration in minutes    3204 non-null object\n",
      "keywords               3204 non-null object\n",
      "tags                   3204 non-null object\n",
      "title                  3204 non-null object\n",
      "url                    3204 non-null object\n",
      "views                  3204 non-null object\n",
      "year                   3204 non-null object\n",
      "dtypes: object(11)\n",
      "memory usage: 275.4+ KB\n"
     ]
    }
   ],
   "source": [
    "talkpd=pd.DataFrame(talk_cont)\n",
    "talkpd.info()"
   ]
  },
  {
   "cell_type": "code",
   "execution_count": 48,
   "metadata": {},
   "outputs": [
    {
     "data": {
      "text/html": [
       "<div>\n",
       "<style scoped>\n",
       "    .dataframe tbody tr th:only-of-type {\n",
       "        vertical-align: middle;\n",
       "    }\n",
       "\n",
       "    .dataframe tbody tr th {\n",
       "        vertical-align: top;\n",
       "    }\n",
       "\n",
       "    .dataframe thead th {\n",
       "        text-align: right;\n",
       "    }\n",
       "</style>\n",
       "<table border=\"1\" class=\"dataframe\">\n",
       "  <thead>\n",
       "    <tr style=\"text-align: right;\">\n",
       "      <th></th>\n",
       "      <th>author</th>\n",
       "      <th>date</th>\n",
       "      <th>desc</th>\n",
       "      <th>duration</th>\n",
       "      <th>duration in minutes</th>\n",
       "      <th>keywords</th>\n",
       "      <th>tags</th>\n",
       "      <th>title</th>\n",
       "      <th>url</th>\n",
       "      <th>views</th>\n",
       "      <th>year</th>\n",
       "    </tr>\n",
       "  </thead>\n",
       "  <tbody>\n",
       "    <tr>\n",
       "      <th>0</th>\n",
       "      <td>Denise Herzing</td>\n",
       "      <td>2013-06-06T15:13:15+00:00</td>\n",
       "      <td>For 28 years, Denise Herzing has spent five mo...</td>\n",
       "      <td>878.0</td>\n",
       "      <td>PT14M38S</td>\n",
       "      <td>TED, talks, animals, biology, communication, l...</td>\n",
       "      <td>[animals, biology, communication, language, oc...</td>\n",
       "      <td>Could we speak the language of dolphins?</td>\n",
       "      <td>https://www.ted.com/talks/denise_herzing_could...</td>\n",
       "      <td>1287842</td>\n",
       "      <td>2013</td>\n",
       "    </tr>\n",
       "    <tr>\n",
       "      <th>1</th>\n",
       "      <td>Skylar Tibbits</td>\n",
       "      <td>2013-04-04T14:56:21+00:00</td>\n",
       "      <td>3D printing has grown in sophistication since ...</td>\n",
       "      <td>502.0</td>\n",
       "      <td>PT8M22S</td>\n",
       "      <td>TED, talks, TED Fellows, design, industrial de...</td>\n",
       "      <td>[TED Fellows, design, industrial design, techn...</td>\n",
       "      <td>The emergence of \"4D printing\"</td>\n",
       "      <td>https://www.ted.com/talks/skylar_tibbits_the_e...</td>\n",
       "      <td>2703913</td>\n",
       "      <td>2013</td>\n",
       "    </tr>\n",
       "  </tbody>\n",
       "</table>\n",
       "</div>"
      ],
      "text/plain": [
       "           author                       date  \\\n",
       "0  Denise Herzing  2013-06-06T15:13:15+00:00   \n",
       "1  Skylar Tibbits  2013-04-04T14:56:21+00:00   \n",
       "\n",
       "                                                desc duration  \\\n",
       "0  For 28 years, Denise Herzing has spent five mo...    878.0   \n",
       "1  3D printing has grown in sophistication since ...    502.0   \n",
       "\n",
       "  duration in minutes                                           keywords  \\\n",
       "0            PT14M38S  TED, talks, animals, biology, communication, l...   \n",
       "1             PT8M22S  TED, talks, TED Fellows, design, industrial de...   \n",
       "\n",
       "                                                tags  \\\n",
       "0  [animals, biology, communication, language, oc...   \n",
       "1  [TED Fellows, design, industrial design, techn...   \n",
       "\n",
       "                                      title  \\\n",
       "0  Could we speak the language of dolphins?   \n",
       "1            The emergence of \"4D printing\"   \n",
       "\n",
       "                                                 url    views  year  \n",
       "0  https://www.ted.com/talks/denise_herzing_could...  1287842  2013  \n",
       "1  https://www.ted.com/talks/skylar_tibbits_the_e...  2703913  2013  "
      ]
     },
     "execution_count": 48,
     "metadata": {},
     "output_type": "execute_result"
    }
   ],
   "source": [
    "talkpd.head()"
   ]
  },
  {
   "cell_type": "code",
   "execution_count": 52,
   "metadata": {},
   "outputs": [],
   "source": [
    "#we will change date object to datetime in order to work on it easily\n",
    "talkpd['date'] = pd.to_datetime(talkpd.date)\n",
    "talkpd['date'] = talkpd['date'].dt.strftime('%Y-%m-%d')"
   ]
  },
  {
   "cell_type": "code",
   "execution_count": 54,
   "metadata": {},
   "outputs": [
    {
     "name": "stdout",
     "output_type": "stream",
     "text": [
      "<class 'pandas.core.frame.DataFrame'>\n",
      "RangeIndex: 3204 entries, 0 to 3203\n",
      "Data columns (total 10 columns):\n",
      "author         3204 non-null object\n",
      "title          3204 non-null object\n",
      "keywords       3204 non-null object\n",
      "tags           3204 non-null object\n",
      "description    3204 non-null object\n",
      "date           3204 non-null object\n",
      "duration       3204 non-null float64\n",
      "views          3204 non-null int64\n",
      "url            3204 non-null object\n",
      "year           3204 non-null object\n",
      "dtypes: float64(1), int64(1), object(8)\n",
      "memory usage: 250.4+ KB\n"
     ]
    }
   ],
   "source": [
    "df = pd.DataFrame({'author': talkpd.author,\n",
    "                  'title':talkpd.title,\n",
    "                  'keywords':talkpd.keywords,\n",
    "                   'tags':talkpd.tags,\n",
    "                   'description':talkpd.desc,\n",
    "                  'date':talkpd.date,\n",
    "                  'duration':talkpd.duration,\n",
    "                   'views':talkpd.views,\n",
    "                  'url':talkpd.url,\n",
    "                  'year':talkpd.year})\n",
    "df.views = talkpd.views.astype(int)\n",
    "df.duration = talkpd.duration.astype(float)\n",
    "# turn some variables to numbers so we can calculate mean etc. \n",
    "df.to_csv(index=False)\n",
    "df.info()"
   ]
  },
  {
   "cell_type": "code",
   "execution_count": 55,
   "metadata": {},
   "outputs": [
    {
     "name": "stdout",
     "output_type": "stream",
     "text": [
      "/Users/betulraylaz/Documents/data-hands-on\n"
     ]
    }
   ],
   "source": [
    "%cd \"/Users/betulraylaz/Documents/data-hands-on\" \n",
    "\n",
    "# save the data on local repository\n",
    "\n",
    "df.to_csv('ted_talks_data.csv', \n",
    "            encoding = 'utf-8',\n",
    "            index = False)"
   ]
  },
  {
   "cell_type": "code",
   "execution_count": 56,
   "metadata": {
    "scrolled": false
   },
   "outputs": [
    {
     "name": "stdout",
     "output_type": "stream",
     "text": [
      "/Users/betulraylaz/Documents/data-hands-on\n"
     ]
    },
    {
     "data": {
      "text/html": [
       "<div>\n",
       "<style scoped>\n",
       "    .dataframe tbody tr th:only-of-type {\n",
       "        vertical-align: middle;\n",
       "    }\n",
       "\n",
       "    .dataframe tbody tr th {\n",
       "        vertical-align: top;\n",
       "    }\n",
       "\n",
       "    .dataframe thead th {\n",
       "        text-align: right;\n",
       "    }\n",
       "</style>\n",
       "<table border=\"1\" class=\"dataframe\">\n",
       "  <thead>\n",
       "    <tr style=\"text-align: right;\">\n",
       "      <th></th>\n",
       "      <th>author</th>\n",
       "      <th>title</th>\n",
       "      <th>keywords</th>\n",
       "      <th>tags</th>\n",
       "      <th>description</th>\n",
       "      <th>date</th>\n",
       "      <th>duration</th>\n",
       "      <th>views</th>\n",
       "      <th>url</th>\n",
       "      <th>year</th>\n",
       "    </tr>\n",
       "  </thead>\n",
       "  <tbody>\n",
       "    <tr>\n",
       "      <th>0</th>\n",
       "      <td>Denise Herzing</td>\n",
       "      <td>Could we speak the language of dolphins?</td>\n",
       "      <td>TED, talks, animals, biology, communication, l...</td>\n",
       "      <td>['animals', 'biology', 'communication', 'langu...</td>\n",
       "      <td>For 28 years, Denise Herzing has spent five mo...</td>\n",
       "      <td>2013-06-06</td>\n",
       "      <td>878.0</td>\n",
       "      <td>1287843</td>\n",
       "      <td>https://www.ted.com/talks/denise_herzing_could...</td>\n",
       "      <td>2013</td>\n",
       "    </tr>\n",
       "    <tr>\n",
       "      <th>1</th>\n",
       "      <td>Skylar Tibbits</td>\n",
       "      <td>The emergence of \"4D printing\"</td>\n",
       "      <td>TED, talks, TED Fellows, design, industrial de...</td>\n",
       "      <td>['TED Fellows', 'design', 'industrial design',...</td>\n",
       "      <td>3D printing has grown in sophistication since ...</td>\n",
       "      <td>2013-04-04</td>\n",
       "      <td>502.0</td>\n",
       "      <td>2703913</td>\n",
       "      <td>https://www.ted.com/talks/skylar_tibbits_the_e...</td>\n",
       "      <td>2013</td>\n",
       "    </tr>\n",
       "    <tr>\n",
       "      <th>2</th>\n",
       "      <td>Bruno Michel</td>\n",
       "      <td>How our brains will keep up with AI</td>\n",
       "      <td>TED, talks, technology, AI, machine learning, ...</td>\n",
       "      <td>['technology', 'AI', 'machine learning', 'inte...</td>\n",
       "      <td>Since humanity first imagined the reality of i...</td>\n",
       "      <td>2018-02-12</td>\n",
       "      <td>605.0</td>\n",
       "      <td>0</td>\n",
       "      <td>https://www.ted.com/talks/bruno_michel_how_our...</td>\n",
       "      <td>2018</td>\n",
       "    </tr>\n",
       "    <tr>\n",
       "      <th>3</th>\n",
       "      <td>Chip Kidd</td>\n",
       "      <td>Designing books is no laughing matter. OK, it is.</td>\n",
       "      <td>TED, talks, creativity, design, humor, literature</td>\n",
       "      <td>['creativity', 'design', 'humor', 'literature']</td>\n",
       "      <td>Chip Kidd doesn't judge books by their cover, ...</td>\n",
       "      <td>2012-04-04</td>\n",
       "      <td>1036.0</td>\n",
       "      <td>2238891</td>\n",
       "      <td>https://www.ted.com/talks/chip_kidd_designing_...</td>\n",
       "      <td>2012</td>\n",
       "    </tr>\n",
       "    <tr>\n",
       "      <th>4</th>\n",
       "      <td>Rose Eveleth</td>\n",
       "      <td>How do we smell?</td>\n",
       "      <td>TED, talks, TED-Ed, animation, smell, human bo...</td>\n",
       "      <td>['TED-Ed', 'animation', 'smell', 'human body',...</td>\n",
       "      <td>An adult human can distinguish up to 10,000 od...</td>\n",
       "      <td>2019-02-22</td>\n",
       "      <td>244.0</td>\n",
       "      <td>1193706</td>\n",
       "      <td>https://www.ted.com/talks/rose_eveleth_how_do_...</td>\n",
       "      <td>2019</td>\n",
       "    </tr>\n",
       "  </tbody>\n",
       "</table>\n",
       "</div>"
      ],
      "text/plain": [
       "           author                                              title  \\\n",
       "0  Denise Herzing           Could we speak the language of dolphins?   \n",
       "1  Skylar Tibbits                     The emergence of \"4D printing\"   \n",
       "2    Bruno Michel                How our brains will keep up with AI   \n",
       "3       Chip Kidd  Designing books is no laughing matter. OK, it is.   \n",
       "4    Rose Eveleth                                   How do we smell?   \n",
       "\n",
       "                                            keywords  \\\n",
       "0  TED, talks, animals, biology, communication, l...   \n",
       "1  TED, talks, TED Fellows, design, industrial de...   \n",
       "2  TED, talks, technology, AI, machine learning, ...   \n",
       "3  TED, talks, creativity, design, humor, literature   \n",
       "4  TED, talks, TED-Ed, animation, smell, human bo...   \n",
       "\n",
       "                                                tags  \\\n",
       "0  ['animals', 'biology', 'communication', 'langu...   \n",
       "1  ['TED Fellows', 'design', 'industrial design',...   \n",
       "2  ['technology', 'AI', 'machine learning', 'inte...   \n",
       "3    ['creativity', 'design', 'humor', 'literature']   \n",
       "4  ['TED-Ed', 'animation', 'smell', 'human body',...   \n",
       "\n",
       "                                         description        date  duration  \\\n",
       "0  For 28 years, Denise Herzing has spent five mo...  2013-06-06     878.0   \n",
       "1  3D printing has grown in sophistication since ...  2013-04-04     502.0   \n",
       "2  Since humanity first imagined the reality of i...  2018-02-12     605.0   \n",
       "3  Chip Kidd doesn't judge books by their cover, ...  2012-04-04    1036.0   \n",
       "4  An adult human can distinguish up to 10,000 od...  2019-02-22     244.0   \n",
       "\n",
       "     views                                                url  year  \n",
       "0  1287843  https://www.ted.com/talks/denise_herzing_could...  2013  \n",
       "1  2703913  https://www.ted.com/talks/skylar_tibbits_the_e...  2013  \n",
       "2        0  https://www.ted.com/talks/bruno_michel_how_our...  2018  \n",
       "3  2238891  https://www.ted.com/talks/chip_kidd_designing_...  2012  \n",
       "4  1193706  https://www.ted.com/talks/rose_eveleth_how_do_...  2019  "
      ]
     },
     "execution_count": 56,
     "metadata": {},
     "output_type": "execute_result"
    }
   ],
   "source": [
    "%cd \"/Users/betulraylaz/Documents/data-hands-on\"  \n",
    "\n",
    "#read the saved file to Python\n",
    "\n",
    "df = pd.read_csv('ted_talks_data.csv',\n",
    "                encoding = 'utf-8')\n",
    "df.head(5)"
   ]
  },
  {
   "cell_type": "markdown",
   "metadata": {},
   "source": [
    "### 4.What we can do with the Data"
   ]
  },
  {
   "cell_type": "markdown",
   "metadata": {},
   "source": [
    "We can basically see descriptions of each column: mean of the duration, most talked author etc."
   ]
  },
  {
   "cell_type": "code",
   "execution_count": 57,
   "metadata": {},
   "outputs": [
    {
     "data": {
      "text/plain": [
       "count    3.204000e+03\n",
       "mean     1.718719e+06\n",
       "std      2.786268e+06\n",
       "min      0.000000e+00\n",
       "25%      6.967380e+05\n",
       "50%      1.171111e+06\n",
       "75%      1.765940e+06\n",
       "max      5.118439e+07\n",
       "Name: views, dtype: float64"
      ]
     },
     "execution_count": 57,
     "metadata": {},
     "output_type": "execute_result"
    }
   ],
   "source": [
    "df['views'].describe()"
   ]
  },
  {
   "cell_type": "code",
   "execution_count": 58,
   "metadata": {},
   "outputs": [
    {
     "data": {
      "text/plain": [
       "count    3204.000000\n",
       "mean      691.361735\n",
       "std       335.546194\n",
       "min         0.000000\n",
       "25%       427.750000\n",
       "50%       711.000000\n",
       "75%       944.000000\n",
       "max      3608.000000\n",
       "Name: duration, dtype: float64"
      ]
     },
     "execution_count": 58,
     "metadata": {},
     "output_type": "execute_result"
    }
   ],
   "source": [
    "df['duration'].describe()\n",
    "#on avarage, the duration of the talks are 691.36 seconds. "
   ]
  },
  {
   "cell_type": "code",
   "execution_count": 59,
   "metadata": {},
   "outputs": [
    {
     "data": {
      "text/plain": [
       "count             3203\n",
       "unique            2822\n",
       "top       Alex Gendler\n",
       "freq                14\n",
       "Name: author, dtype: object"
      ]
     },
     "execution_count": 59,
     "metadata": {},
     "output_type": "execute_result"
    }
   ],
   "source": [
    "df['author'].describe()\n",
    "#most hosted speaker is Alex Gendler, he talked 14 times"
   ]
  },
  {
   "cell_type": "code",
   "execution_count": 60,
   "metadata": {},
   "outputs": [
    {
     "data": {
      "text/html": [
       "<div>\n",
       "<style scoped>\n",
       "    .dataframe tbody tr th:only-of-type {\n",
       "        vertical-align: middle;\n",
       "    }\n",
       "\n",
       "    .dataframe tbody tr th {\n",
       "        vertical-align: top;\n",
       "    }\n",
       "\n",
       "    .dataframe thead th {\n",
       "        text-align: right;\n",
       "    }\n",
       "</style>\n",
       "<table border=\"1\" class=\"dataframe\">\n",
       "  <thead>\n",
       "    <tr style=\"text-align: right;\">\n",
       "      <th></th>\n",
       "      <th>author</th>\n",
       "      <th>title</th>\n",
       "      <th>keywords</th>\n",
       "      <th>tags</th>\n",
       "      <th>description</th>\n",
       "      <th>date</th>\n",
       "      <th>duration</th>\n",
       "      <th>views</th>\n",
       "      <th>url</th>\n",
       "      <th>year</th>\n",
       "    </tr>\n",
       "  </thead>\n",
       "  <tbody>\n",
       "    <tr>\n",
       "      <th>2514</th>\n",
       "      <td>Gustavo Dudamel and the Teresa Carreño Youth O...</td>\n",
       "      <td>El Sistema's top youth orchestra</td>\n",
       "      <td>TED, talks, TED Prize, children, conducting, c...</td>\n",
       "      <td>['TED Prize', 'children', 'conducting', 'cultu...</td>\n",
       "      <td>The Teresa Carreño Youth Orchestra contains th...</td>\n",
       "      <td>2009-02-18</td>\n",
       "      <td>1026.0</td>\n",
       "      <td>2273454</td>\n",
       "      <td>https://www.ted.com/talks/astonishing_performa...</td>\n",
       "      <td>2009</td>\n",
       "    </tr>\n",
       "    <tr>\n",
       "      <th>2969</th>\n",
       "      <td>Sylvia Earle</td>\n",
       "      <td>My wish: Protect our oceans</td>\n",
       "      <td>TED, talks, TED Prize, activism, biodiversity,...</td>\n",
       "      <td>['TED Prize', 'activism', 'biodiversity', 'exp...</td>\n",
       "      <td>Legendary ocean researcher Sylvia Earle shares...</td>\n",
       "      <td>2009-02-19</td>\n",
       "      <td>1096.0</td>\n",
       "      <td>1325364</td>\n",
       "      <td>https://www.ted.com/talks/sylvia_earle_s_ted_p...</td>\n",
       "      <td>2009</td>\n",
       "    </tr>\n",
       "    <tr>\n",
       "      <th>2469</th>\n",
       "      <td>Jill Tarter</td>\n",
       "      <td>Join the SETI search</td>\n",
       "      <td>TED, talks, TED Prize, exploration, extraterre...</td>\n",
       "      <td>['TED Prize', 'exploration', 'extraterrestrial...</td>\n",
       "      <td>The SETI Institute's Jill Tarter makes her TED...</td>\n",
       "      <td>2009-02-20</td>\n",
       "      <td>1283.0</td>\n",
       "      <td>1321636</td>\n",
       "      <td>https://www.ted.com/talks/jill_tarter_s_call_t...</td>\n",
       "      <td>2009</td>\n",
       "    </tr>\n",
       "    <tr>\n",
       "      <th>1970</th>\n",
       "      <td>Ed Ulbrich</td>\n",
       "      <td>How Benjamin Button got his face</td>\n",
       "      <td>TED, talks, aging, business, entertainment, fi...</td>\n",
       "      <td>['aging', 'business', 'entertainment', 'film',...</td>\n",
       "      <td>Ed Ulbrich, the digital-effects guru from Digi...</td>\n",
       "      <td>2009-02-23</td>\n",
       "      <td>1087.0</td>\n",
       "      <td>933438</td>\n",
       "      <td>https://www.ted.com/talks/ed_ulbrich_shows_how...</td>\n",
       "      <td>2009</td>\n",
       "    </tr>\n",
       "    <tr>\n",
       "      <th>3181</th>\n",
       "      <td>Charles Moore</td>\n",
       "      <td>Seas of plastic</td>\n",
       "      <td>TED, talks, business, environment, oceans, pla...</td>\n",
       "      <td>['business', 'environment', 'oceans', 'plastic...</td>\n",
       "      <td>Capt. Charles Moore of the Algalita Marine Res...</td>\n",
       "      <td>2009-02-24</td>\n",
       "      <td>440.0</td>\n",
       "      <td>1221708</td>\n",
       "      <td>https://www.ted.com/talks/capt_charles_moore_o...</td>\n",
       "      <td>2009</td>\n",
       "    </tr>\n",
       "  </tbody>\n",
       "</table>\n",
       "</div>"
      ],
      "text/plain": [
       "                                                 author  \\\n",
       "2514  Gustavo Dudamel and the Teresa Carreño Youth O...   \n",
       "2969                                       Sylvia Earle   \n",
       "2469                                        Jill Tarter   \n",
       "1970                                         Ed Ulbrich   \n",
       "3181                                      Charles Moore   \n",
       "\n",
       "                                 title  \\\n",
       "2514  El Sistema's top youth orchestra   \n",
       "2969       My wish: Protect our oceans   \n",
       "2469              Join the SETI search   \n",
       "1970  How Benjamin Button got his face   \n",
       "3181                   Seas of plastic   \n",
       "\n",
       "                                               keywords  \\\n",
       "2514  TED, talks, TED Prize, children, conducting, c...   \n",
       "2969  TED, talks, TED Prize, activism, biodiversity,...   \n",
       "2469  TED, talks, TED Prize, exploration, extraterre...   \n",
       "1970  TED, talks, aging, business, entertainment, fi...   \n",
       "3181  TED, talks, business, environment, oceans, pla...   \n",
       "\n",
       "                                                   tags  \\\n",
       "2514  ['TED Prize', 'children', 'conducting', 'cultu...   \n",
       "2969  ['TED Prize', 'activism', 'biodiversity', 'exp...   \n",
       "2469  ['TED Prize', 'exploration', 'extraterrestrial...   \n",
       "1970  ['aging', 'business', 'entertainment', 'film',...   \n",
       "3181  ['business', 'environment', 'oceans', 'plastic...   \n",
       "\n",
       "                                            description        date  duration  \\\n",
       "2514  The Teresa Carreño Youth Orchestra contains th...  2009-02-18    1026.0   \n",
       "2969  Legendary ocean researcher Sylvia Earle shares...  2009-02-19    1096.0   \n",
       "2469  The SETI Institute's Jill Tarter makes her TED...  2009-02-20    1283.0   \n",
       "1970  Ed Ulbrich, the digital-effects guru from Digi...  2009-02-23    1087.0   \n",
       "3181  Capt. Charles Moore of the Algalita Marine Res...  2009-02-24     440.0   \n",
       "\n",
       "        views                                                url  year  \n",
       "2514  2273454  https://www.ted.com/talks/astonishing_performa...  2009  \n",
       "2969  1325364  https://www.ted.com/talks/sylvia_earle_s_ted_p...  2009  \n",
       "2469  1321636  https://www.ted.com/talks/jill_tarter_s_call_t...  2009  \n",
       "1970   933438  https://www.ted.com/talks/ed_ulbrich_shows_how...  2009  \n",
       "3181  1221708  https://www.ted.com/talks/capt_charles_moore_o...  2009  "
      ]
     },
     "execution_count": 60,
     "metadata": {},
     "output_type": "execute_result"
    }
   ],
   "source": [
    "df.sort_values('date').head()\n",
    "#the oldest video we scraped is on  February 2009"
   ]
  },
  {
   "cell_type": "markdown",
   "metadata": {},
   "source": [
    "####  Most viewed 25 talks:"
   ]
  },
  {
   "cell_type": "code",
   "execution_count": 62,
   "metadata": {},
   "outputs": [
    {
     "data": {
      "text/html": [
       "<div>\n",
       "<style scoped>\n",
       "    .dataframe tbody tr th:only-of-type {\n",
       "        vertical-align: middle;\n",
       "    }\n",
       "\n",
       "    .dataframe tbody tr th {\n",
       "        vertical-align: top;\n",
       "    }\n",
       "\n",
       "    .dataframe thead th {\n",
       "        text-align: right;\n",
       "    }\n",
       "</style>\n",
       "<table border=\"1\" class=\"dataframe\">\n",
       "  <thead>\n",
       "    <tr style=\"text-align: right;\">\n",
       "      <th></th>\n",
       "      <th>author</th>\n",
       "      <th>title</th>\n",
       "      <th>views</th>\n",
       "      <th>date</th>\n",
       "    </tr>\n",
       "  </thead>\n",
       "  <tbody>\n",
       "    <tr>\n",
       "      <th>2061</th>\n",
       "      <td>Amy Cuddy</td>\n",
       "      <td>Your body language may shape who you are</td>\n",
       "      <td>51184388</td>\n",
       "      <td>2012-10-01</td>\n",
       "    </tr>\n",
       "    <tr>\n",
       "      <th>2314</th>\n",
       "      <td>James Veitch</td>\n",
       "      <td>This is what happens when you reply to spam email</td>\n",
       "      <td>43945662</td>\n",
       "      <td>2016-01-08</td>\n",
       "    </tr>\n",
       "    <tr>\n",
       "      <th>2661</th>\n",
       "      <td>Simon Sinek</td>\n",
       "      <td>How great leaders inspire action</td>\n",
       "      <td>42831358</td>\n",
       "      <td>2010-05-04</td>\n",
       "    </tr>\n",
       "    <tr>\n",
       "      <th>1525</th>\n",
       "      <td>Brené Brown</td>\n",
       "      <td>The power of vulnerability</td>\n",
       "      <td>38474826</td>\n",
       "      <td>2010-12-23</td>\n",
       "    </tr>\n",
       "    <tr>\n",
       "      <th>2923</th>\n",
       "      <td>Julian Treasure</td>\n",
       "      <td>How to speak so that people want to listen</td>\n",
       "      <td>32909947</td>\n",
       "      <td>2014-06-27</td>\n",
       "    </tr>\n",
       "    <tr>\n",
       "      <th>132</th>\n",
       "      <td>Tim Urban</td>\n",
       "      <td>Inside the mind of a master procrastinator</td>\n",
       "      <td>27867267</td>\n",
       "      <td>2016-03-15</td>\n",
       "    </tr>\n",
       "    <tr>\n",
       "      <th>260</th>\n",
       "      <td>Mary Roach</td>\n",
       "      <td>10 things you didn't know about orgasm</td>\n",
       "      <td>26573921</td>\n",
       "      <td>2009-05-20</td>\n",
       "    </tr>\n",
       "    <tr>\n",
       "      <th>2176</th>\n",
       "      <td>Sam Berns</td>\n",
       "      <td>My philosophy for a happy life</td>\n",
       "      <td>26435626</td>\n",
       "      <td>2018-03-28</td>\n",
       "    </tr>\n",
       "    <tr>\n",
       "      <th>2379</th>\n",
       "      <td>Cameron Russell</td>\n",
       "      <td>Looks aren't everything. Believe me, I'm a model.</td>\n",
       "      <td>26152097</td>\n",
       "      <td>2013-01-16</td>\n",
       "    </tr>\n",
       "    <tr>\n",
       "      <th>1087</th>\n",
       "      <td>Robert Waldinger</td>\n",
       "      <td>What makes a good life? Lessons from the longe...</td>\n",
       "      <td>25941843</td>\n",
       "      <td>2015-12-23</td>\n",
       "    </tr>\n",
       "    <tr>\n",
       "      <th>651</th>\n",
       "      <td>Graham Shaw</td>\n",
       "      <td>Why people believe they can't draw</td>\n",
       "      <td>23803382</td>\n",
       "      <td>2018-03-28</td>\n",
       "    </tr>\n",
       "    <tr>\n",
       "      <th>1522</th>\n",
       "      <td>Dan Pink</td>\n",
       "      <td>The puzzle of motivation</td>\n",
       "      <td>22282325</td>\n",
       "      <td>2009-08-24</td>\n",
       "    </tr>\n",
       "    <tr>\n",
       "      <th>2520</th>\n",
       "      <td>Pamela Meyer</td>\n",
       "      <td>How to spot a liar</td>\n",
       "      <td>22036902</td>\n",
       "      <td>2011-10-13</td>\n",
       "    </tr>\n",
       "    <tr>\n",
       "      <th>1134</th>\n",
       "      <td>Susan Cain</td>\n",
       "      <td>The power of introverts</td>\n",
       "      <td>21051536</td>\n",
       "      <td>2012-03-02</td>\n",
       "    </tr>\n",
       "    <tr>\n",
       "      <th>26</th>\n",
       "      <td>Apollo Robbins</td>\n",
       "      <td>The art of misdirection</td>\n",
       "      <td>19580712</td>\n",
       "      <td>2013-09-13</td>\n",
       "    </tr>\n",
       "    <tr>\n",
       "      <th>1756</th>\n",
       "      <td>Shawn Achor</td>\n",
       "      <td>The happy secret to better work</td>\n",
       "      <td>19180692</td>\n",
       "      <td>2012-02-01</td>\n",
       "    </tr>\n",
       "    <tr>\n",
       "      <th>2368</th>\n",
       "      <td>David Blaine</td>\n",
       "      <td>How I held my breath for 17 minutes</td>\n",
       "      <td>19029728</td>\n",
       "      <td>2010-01-19</td>\n",
       "    </tr>\n",
       "    <tr>\n",
       "      <th>2803</th>\n",
       "      <td>Kelly McGonigal</td>\n",
       "      <td>How to make stress your friend</td>\n",
       "      <td>18989034</td>\n",
       "      <td>2013-09-04</td>\n",
       "    </tr>\n",
       "    <tr>\n",
       "      <th>2081</th>\n",
       "      <td>Chimamanda Ngozi Adichie</td>\n",
       "      <td>The danger of a single story</td>\n",
       "      <td>17473788</td>\n",
       "      <td>2009-10-07</td>\n",
       "    </tr>\n",
       "    <tr>\n",
       "      <th>691</th>\n",
       "      <td>Pranav Mistry</td>\n",
       "      <td>The thrilling potential of SixthSense technology</td>\n",
       "      <td>17221672</td>\n",
       "      <td>2009-11-16</td>\n",
       "    </tr>\n",
       "    <tr>\n",
       "      <th>2779</th>\n",
       "      <td>Mel Robbins</td>\n",
       "      <td>How to stop screwing yourself over</td>\n",
       "      <td>16992268</td>\n",
       "      <td>2018-03-28</td>\n",
       "    </tr>\n",
       "    <tr>\n",
       "      <th>2186</th>\n",
       "      <td>Jon Ronson</td>\n",
       "      <td>Strange answers to the psychopath test</td>\n",
       "      <td>16558410</td>\n",
       "      <td>2012-08-15</td>\n",
       "    </tr>\n",
       "    <tr>\n",
       "      <th>2949</th>\n",
       "      <td>Angela Lee Duckworth</td>\n",
       "      <td>Grit: The power of passion and perseverance</td>\n",
       "      <td>16353732</td>\n",
       "      <td>2013-05-09</td>\n",
       "    </tr>\n",
       "    <tr>\n",
       "      <th>3165</th>\n",
       "      <td>Tom Thum</td>\n",
       "      <td>The orchestra in my mouth</td>\n",
       "      <td>16111673</td>\n",
       "      <td>2013-07-19</td>\n",
       "    </tr>\n",
       "    <tr>\n",
       "      <th>97</th>\n",
       "      <td>James Veitch</td>\n",
       "      <td>The agony of trying to unsubscribe</td>\n",
       "      <td>15674063</td>\n",
       "      <td>2016-09-02</td>\n",
       "    </tr>\n",
       "  </tbody>\n",
       "</table>\n",
       "</div>"
      ],
      "text/plain": [
       "                        author  \\\n",
       "2061                 Amy Cuddy   \n",
       "2314              James Veitch   \n",
       "2661               Simon Sinek   \n",
       "1525               Brené Brown   \n",
       "2923           Julian Treasure   \n",
       "132                  Tim Urban   \n",
       "260                 Mary Roach   \n",
       "2176                 Sam Berns   \n",
       "2379           Cameron Russell   \n",
       "1087          Robert Waldinger   \n",
       "651                Graham Shaw   \n",
       "1522                  Dan Pink   \n",
       "2520              Pamela Meyer   \n",
       "1134                Susan Cain   \n",
       "26              Apollo Robbins   \n",
       "1756               Shawn Achor   \n",
       "2368              David Blaine   \n",
       "2803           Kelly McGonigal   \n",
       "2081  Chimamanda Ngozi Adichie   \n",
       "691              Pranav Mistry   \n",
       "2779               Mel Robbins   \n",
       "2186                Jon Ronson   \n",
       "2949      Angela Lee Duckworth   \n",
       "3165                  Tom Thum   \n",
       "97                James Veitch   \n",
       "\n",
       "                                                  title     views        date  \n",
       "2061           Your body language may shape who you are  51184388  2012-10-01  \n",
       "2314  This is what happens when you reply to spam email  43945662  2016-01-08  \n",
       "2661                   How great leaders inspire action  42831358  2010-05-04  \n",
       "1525                         The power of vulnerability  38474826  2010-12-23  \n",
       "2923         How to speak so that people want to listen  32909947  2014-06-27  \n",
       "132          Inside the mind of a master procrastinator  27867267  2016-03-15  \n",
       "260              10 things you didn't know about orgasm  26573921  2009-05-20  \n",
       "2176                     My philosophy for a happy life  26435626  2018-03-28  \n",
       "2379  Looks aren't everything. Believe me, I'm a model.  26152097  2013-01-16  \n",
       "1087  What makes a good life? Lessons from the longe...  25941843  2015-12-23  \n",
       "651                  Why people believe they can't draw  23803382  2018-03-28  \n",
       "1522                           The puzzle of motivation  22282325  2009-08-24  \n",
       "2520                                 How to spot a liar  22036902  2011-10-13  \n",
       "1134                            The power of introverts  21051536  2012-03-02  \n",
       "26                              The art of misdirection  19580712  2013-09-13  \n",
       "1756                    The happy secret to better work  19180692  2012-02-01  \n",
       "2368                How I held my breath for 17 minutes  19029728  2010-01-19  \n",
       "2803                     How to make stress your friend  18989034  2013-09-04  \n",
       "2081                       The danger of a single story  17473788  2009-10-07  \n",
       "691    The thrilling potential of SixthSense technology  17221672  2009-11-16  \n",
       "2779                 How to stop screwing yourself over  16992268  2018-03-28  \n",
       "2186             Strange answers to the psychopath test  16558410  2012-08-15  \n",
       "2949        Grit: The power of passion and perseverance  16353732  2013-05-09  \n",
       "3165                          The orchestra in my mouth  16111673  2013-07-19  \n",
       "97                   The agony of trying to unsubscribe  15674063  2016-09-02  "
      ]
     },
     "execution_count": 62,
     "metadata": {},
     "output_type": "execute_result"
    }
   ],
   "source": [
    "df = df.sort_values('views', ascending=False)\n",
    "df[[\"author\",\"title\",\"views\",\"date\"]].head(25)\n",
    "#you can analyze most viewed talks "
   ]
  },
  {
   "cell_type": "markdown",
   "metadata": {},
   "source": [
    "The most watched talk is 'Your body language may shape who you are' by Amy Cuddy with more tha 51 Million views"
   ]
  },
  {
   "cell_type": "code",
   "execution_count": 65,
   "metadata": {},
   "outputs": [
    {
     "data": {
      "image/png": "[encoded data removed]",
      "text/plain": [
       "<Figure size 1080x360 with 1 Axes>"
      ]
     },
     "metadata": {
      "needs_background": "light"
     },
     "output_type": "display_data"
    }
   ],
   "source": [
    "import seaborn as sns\n",
    "import matplotlib.pyplot as plt\n",
    "\n",
    "plt.figure(figsize=(15,5))\n",
    "sns.countplot(df[\"year\"])\n",
    "plt.show()\n",
    "#you can analyze trend of publication by year"
   ]
  },
  {
   "cell_type": "markdown",
   "metadata": {},
   "source": [
    "TED talks appearantly broadcast more videos on 2018 than anytime. Considering we are on February 2019, 2019 may have higher videos than 2018"
   ]
  },
  {
   "cell_type": "code",
   "execution_count": 67,
   "metadata": {},
   "outputs": [
    {
     "data": {
      "text/plain": [
       "<matplotlib.axes._subplots.AxesSubplot at 0x11bb49908>"
      ]
     },
     "execution_count": 67,
     "metadata": {},
     "output_type": "execute_result"
    },
    {
     "data": {
      "image/png": "[encoded data removed]",
      "text/plain": [
       "<Figure size 432x288 with 1 Axes>"
      ]
     },
     "metadata": {
      "needs_background": "light"
     },
     "output_type": "display_data"
    }
   ],
   "source": [
    "sns.barplot(x= df.groupby([\"year\"]).sum()[\"views\"].index, y= df.groupby([\"year\"]).sum()[\"views\"])\n",
    "#we can find the views per year"
   ]
  },
  {
   "cell_type": "markdown",
   "metadata": {},
   "source": [
    "TED talks are watched the most on 2013, combining those two last graphs, we may conclude that an avarage video on 2013 was watched more than an avarage video on 2018"
   ]
  },
  {
   "cell_type": "markdown",
   "metadata": {},
   "source": [
    "## Talk contents: "
   ]
  },
  {
   "cell_type": "code",
   "execution_count": 70,
   "metadata": {},
   "outputs": [
    {
     "data": {
      "image/png": "[encoded data removed]",
      "text/plain": [
       "<Figure size 1080x360 with 1 Axes>"
      ]
     },
     "metadata": {
      "needs_background": "light"
     },
     "output_type": "display_data"
    }
   ],
   "source": [
    "tags = []\n",
    "for i in range(len(df.loc[:,'tags'])):\n",
    "    ls = list(df.loc[:,'tags'])[i][2:-2].split(',')\n",
    "    for c in range(len(ls)):\n",
    "        value= list(df.loc[:,'tags'])[i][2:-2].split(',')[c]\n",
    "        tags.append(value.replace(\"'\",\"\"))\n",
    "tags = pd.DataFrame(tags,columns=[\"tags\"])\n",
    "tags.iloc[:,0].value_counts().head(10)\n",
    "tags = pd.DataFrame(tags.iloc[:,0].value_counts()).reset_index()\n",
    "plt.figure(figsize=(15,5))\n",
    "sns.barplot(x=tags[\"index\"].head(10),y=tags[\"tags\"].head(10))\n",
    "plt.xlabel(\"tags\")\n",
    "plt.ylabel(\"talks\")\n",
    "plt.show()\n",
    "\n",
    "#you can analyze talk-topics"
   ]
  },
  {
   "cell_type": "markdown",
   "metadata": {},
   "source": [
    "Technology is the most talked topic, followed by Science and Society"
   ]
  },
  {
   "cell_type": "markdown",
   "metadata": {},
   "source": [
    "### 5.Conclusion"
   ]
  },
  {
   "cell_type": "markdown",
   "metadata": {},
   "source": [
    "1. We have list of !!!! talk links saved as csv file in our computer. We can easily increase number of talks we want to scrape, or we can decide to scrape the oldest videos with these codes.\n",
    "2. We succeeded to have a csv file of datas of !!! TED talks. \n",
    "3. Those datas are classified as author, title, keywords, description, date, duration, views,and url. \n",
    "4. We can basically see descriptions of each column: mean of the duration, most talked author etc.\n",
    "5. We can see:\n",
    "    <bn> \n",
    "        most viewed talks\n",
    "    <bn> \n",
    "        the distribution of tags (all times or by year)\n",
    "    <bn> \n",
    "        The trend of publication by TED"
   ]
  },
  {
   "cell_type": "markdown",
   "metadata": {},
   "source": [
    "What can be done further? \n",
    "    <bn>\n",
    "    \n",
    "    Ted has speakers occupation data on the video page.\n",
    "    We can see the pattern of occupations during time or the correlations between occupations and contents. \n",
    "    \n",
    "   <bn>\n",
    "    \n",
    "    Secondly, Ted has the suggested videos part and the description of those videos. We can analyze the pattern on suggestions. Is it based on speakers, year, or tags?\n"
   ]
  }
 ],
 "metadata": {
  "kernelspec": {
   "display_name": "Python 3",
   "language": "python",
   "name": "python3"
  },
  "language_info": {
   "codemirror_mode": {
    "name": "ipython",
    "version": 3
   },
   "file_extension": ".py",
   "mimetype": "text/x-python",
   "name": "python",
   "nbconvert_exporter": "python",
   "pygments_lexer": "ipython3",
   "version": "3.7.3"
  }
 },
 "nbformat": 4,
 "nbformat_minor": 2
}
